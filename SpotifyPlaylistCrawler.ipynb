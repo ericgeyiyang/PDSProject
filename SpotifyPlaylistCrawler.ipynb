{
 "cells": [
  {
   "cell_type": "markdown",
   "metadata": {},
   "source": [
    "# Music Recommender System via Spotify API\n",
    "Inspired by movie recommender systems we build on homework, we decided to create music recommender system using real user data from Spotify. We also compare method used in the course with 2 more advanced Collaborative Filtering method often used in business, to see which one is more appopriate."
   ]
  },
  {
   "cell_type": "markdown",
   "metadata": {},
   "source": [
    "### Environment requirement\n",
    "\n",
    "* Standard Library: \n",
    "    * [io](https://docs.python.org/2/library/io.html)\n",
    "    * [time](https://docs.python.org/2/library/time.html)\n",
    "    * [json](https://docs.python.org/2/library/json.html)\n",
    "    * [csv](https://docs.python.org/3/library/csv.html)\n",
    "\n",
    "* Third Party\n",
    "    * [pandas](https://pandas.pydata.org/pandas-docs/stable/install.html)\n",
    "    * [requests](http://docs.python-requests.org/en/master/)\n",
    "    * [spotipy](https://pypi.org/project/spotipy/): pip3 install spotipy\n",
    "    * [fastai](https://docs.fast.ai/install.html): pip3 install fastai"
   ]
  },
  {
   "cell_type": "code",
   "execution_count": null,
   "metadata": {},
   "outputs": [],
   "source": [
    "import spotipy\n",
    "import spotipy.oauth2 as oauth2\n",
    "import io, time, json\n",
    "import requests\n",
    "from pathlib import Path\n",
    "import csv\n",
    "import pandas as pd\n",
    "import torch\n",
    "from collections import Counter\n",
    "from fastai.collab import *"
   ]
  },
  {
   "cell_type": "markdown",
   "metadata": {},
   "source": [
    "# 1. Data scraper via Spotify API\n",
    "Spotify provide us an [endpoint](https://developer.spotify.com/documentation/web-api/reference/playlists/get-list-users-playlists/) where we can get a list of user's playlists given the user_id. Our intuition is, all the tracks from the user's playlists should be ones that user enjoys the most. In order to assign a score to each track indicatng how much the user like that song, we considered user's total number of brodcast times, whether the user put this song to his 'fav' playlist etc. However, Spotify hide these information from us in order to protect user privacy. So at last we count the number of times a track occured in the user's playlists as an indicator of how much the user like that song. \n",
    "### Here are two helper functions that \n",
    "1. read client id and client secret given file path.\n",
    "2. generate API token given client id and client secret."
   ]
  },
  {
   "cell_type": "code",
   "execution_count": 98,
   "metadata": {},
   "outputs": [],
   "source": [
    "def read_client_info(filepath):\n",
    "    \"\"\"\n",
    "    Read the Spotify Client ID from file.\n",
    "    \n",
    "    Args:\n",
    "        filepath (string): File containing API Key\n",
    "    Returns:\n",
    "        client_id (string): The client_id\n",
    "    \"\"\"\n",
    "    return Path(filepath).read_text().strip()\n",
    "\n",
    "def generate_token():\n",
    "    \"\"\" Generate the token from client_id and client_secret \"\"\"\n",
    "    credentials = oauth2.SpotifyClientCredentials(\n",
    "        client_id=read_client_info(\"client_id.txt\"),\n",
    "        client_secret=read_client_info(\"client_secret.txt\"))\n",
    "    token = credentials.get_access_token()\n",
    "    return token\n"
   ]
  },
  {
   "cell_type": "markdown",
   "metadata": {},
   "source": [
    "### Helper functions for data scraping\n",
    "To build a real music recommender system, we need a list of users, with each user a list of favorite songs and a score indicating how much the user like each song. So we need a few helper functions that:\n",
    "1. Given playlist id/uri, return all the tracks in this playlist.\n",
    "2. Given user id, return all the public playlists this user created or collected. "
   ]
  },
  {
   "cell_type": "code",
   "execution_count": 119,
   "metadata": {},
   "outputs": [],
   "source": [
    "def get_response(token, uri):\n",
    "    headers = {'Authorization': 'Bearer %s' % token}\n",
    "    rsp = requests.get(uri, headers=headers)\n",
    "    return rsp.status_code, rsp.text\n",
    "\n",
    "def get_tracks_from_playlist(token, playlist_uri):\n",
    "    \"\"\"\n",
    "    Make an authenticated request to the Spotify API to get all the tracks in a public playlist.\n",
    "    \"\"\"\n",
    "#     import pdb\n",
    "    res = []\n",
    "    status_code, txt = get_response(token, playlist_uri)\n",
    "#     pdb.set_trace()\n",
    "    if status_code == 200:\n",
    "        d = json.loads(txt)\n",
    "        tracks = d['tracks']\n",
    "        while True:\n",
    "            for item in tracks['items']:\n",
    "                if item['track']:\n",
    "                    track_name = item['track']['name']\n",
    "                    res.append(track_name)\n",
    "            if tracks['next']:\n",
    "                tracks = spotify.next(tracks)\n",
    "            else:\n",
    "                break\n",
    "    return res\n",
    "\n",
    "def get_users_public_playlist(token, user_id):\n",
    "    \"\"\"\n",
    "    Make an authenticated request to the Spotify API to get user's public playlists.\n",
    "    \"\"\"\n",
    "    res = []\n",
    "    nxt = \"https://api.spotify.com/v1/users/\" + user_id + \"/playlists/?limit=50&offset=0\"\n",
    "    while nxt:\n",
    "        status, txt = get_response(token, nxt)\n",
    "        if status == 200:\n",
    "            d = json.loads(txt)\n",
    "            nxt = d['next']\n",
    "            items = d['items']\n",
    "            for item in items:\n",
    "                tmp_d = {}\n",
    "                tmp_d['playlist_id'] = item['id']\n",
    "                tmp_d['playlist_name'] = item['name']\n",
    "                track_names = get_tracks_from_playlist(token,item['href'])\n",
    "                tmp_d['track_names'] = track_names\n",
    "                res.append(tmp_d)\n",
    "        else:\n",
    "            return status, res\n",
    "    return status, res\n",
    "\n",
    "def transform_format(_id, playlists):\n",
    "    tracks = []\n",
    "    for d in playlists:\n",
    "        tracks += d['track_names']\n",
    "    c = Counter(tracks)\n",
    "    return [_id] * len(c.keys()), list(c.keys()), list(c.values())"
   ]
  },
  {
   "cell_type": "markdown",
   "metadata": {},
   "source": [
    "- Now we can start scraping data! We found that a large amount of user ids start with \"11100563xxx\". So we use this pattern to get a list of user data.  \n",
    "- For each user id, if the request return status code \"200\" and the user has at list one playlist, we get all the tracks and calculate frequency for each track.  \n",
    "- At last, we are able to get data from 266 users and 173559 songs in total"
   ]
  },
  {
   "cell_type": "code",
   "execution_count": 120,
   "metadata": {},
   "outputs": [
    {
     "name": "stdout",
     "output_type": "stream",
     "text": [
      "0\n",
      "1\n",
      "2\n",
      "3\n",
      "4\n",
      "5\n",
      "6\n",
      "7\n",
      "8\n",
      "9\n",
      "10\n",
      "11\n",
      "12\n",
      "13\n",
      "14\n",
      "15\n",
      "16\n",
      "17\n",
      "18\n",
      "19\n",
      "20\n",
      "21\n",
      "22\n",
      "23\n",
      "24\n",
      "25\n",
      "26\n",
      "27\n",
      "28\n",
      "29\n",
      "30\n",
      "31\n",
      "32\n",
      "33\n",
      "34\n",
      "35\n",
      "36\n",
      "37\n",
      "38\n",
      "39\n",
      "40\n",
      "41\n",
      "42\n",
      "43\n",
      "44\n",
      "45\n",
      "46\n",
      "47\n",
      "48\n",
      "49\n",
      "50\n",
      "51\n",
      "52\n",
      "53\n",
      "54\n",
      "55\n",
      "56\n",
      "57\n",
      "58\n",
      "59\n",
      "60\n",
      "61\n",
      "62\n",
      "63\n",
      "64\n",
      "65\n",
      "66\n",
      "67\n",
      "68\n",
      "69\n",
      "70\n",
      "71\n",
      "72\n",
      "73\n",
      "74\n",
      "75\n",
      "76\n",
      "77\n",
      "78\n",
      "79\n",
      "80\n",
      "81\n",
      "82\n",
      "83\n",
      "84\n",
      "85\n",
      "86\n",
      "87\n",
      "88\n",
      "89\n",
      "90\n",
      "91\n",
      "92\n",
      "93\n",
      "94\n",
      "95\n",
      "96\n",
      "97\n",
      "98\n",
      "99\n",
      "100\n",
      "101\n",
      "102\n",
      "103\n",
      "104\n",
      "105\n",
      "106\n",
      "107\n",
      "108\n",
      "109\n",
      "110\n",
      "111\n",
      "112\n",
      "113\n",
      "114\n",
      "115\n",
      "116\n",
      "117\n",
      "118\n",
      "119\n",
      "120\n",
      "121\n",
      "122\n",
      "123\n",
      "124\n",
      "125\n",
      "126\n",
      "127\n",
      "128\n",
      "129\n",
      "130\n",
      "131\n",
      "132\n",
      "133\n",
      "134\n",
      "135\n",
      "136\n",
      "137\n",
      "138\n",
      "139\n",
      "140\n",
      "141\n",
      "142\n",
      "143\n",
      "144\n",
      "145\n",
      "146\n",
      "147\n",
      "148\n",
      "149\n",
      "150\n",
      "151\n",
      "152\n",
      "153\n",
      "154\n",
      "155\n",
      "156\n",
      "157\n",
      "158\n",
      "159\n",
      "160\n",
      "161\n",
      "162\n",
      "163\n",
      "164\n",
      "165\n",
      "166\n",
      "167\n",
      "168\n",
      "169\n",
      "170\n",
      "171\n",
      "172\n",
      "173\n",
      "174\n",
      "175\n",
      "176\n",
      "177\n",
      "178\n",
      "179\n",
      "180\n",
      "181\n",
      "182\n",
      "183\n",
      "184\n",
      "185\n",
      "186\n",
      "187\n",
      "188\n",
      "189\n",
      "190\n",
      "191\n",
      "192\n",
      "193\n",
      "194\n",
      "195\n",
      "196\n",
      "197\n",
      "198\n",
      "199\n",
      "200\n",
      "201\n",
      "202\n",
      "203\n",
      "204\n",
      "205\n",
      "206\n",
      "207\n",
      "208\n",
      "209\n",
      "210\n",
      "211\n",
      "212\n",
      "213\n",
      "214\n",
      "215\n",
      "216\n",
      "217\n",
      "218\n",
      "219\n",
      "220\n",
      "221\n",
      "222\n",
      "223\n",
      "224\n",
      "225\n",
      "226\n",
      "227\n",
      "228\n",
      "229\n",
      "230\n",
      "231\n",
      "232\n",
      "233\n",
      "234\n",
      "235\n",
      "236\n",
      "237\n",
      "238\n",
      "239\n",
      "240\n",
      "241\n",
      "242\n",
      "243\n",
      "244\n",
      "245\n",
      "246\n",
      "247\n",
      "248\n",
      "249\n",
      "250\n",
      "251\n",
      "252\n",
      "253\n",
      "254\n",
      "255\n",
      "256\n",
      "257\n",
      "258\n",
      "259\n",
      "260\n",
      "261\n",
      "262\n",
      "263\n",
      "264\n",
      "265\n",
      "266\n"
     ]
    }
   ],
   "source": [
    "token = generate_token()\n",
    "spotify = spotipy.Spotify(auth=token)\n",
    "\n",
    "# example playlist\n",
    "ids = []\n",
    "tracknames = []\n",
    "freqs = []\n",
    "start = \"11100563\"\n",
    "count = 0\n",
    "\n",
    "for i in range(10):\n",
    "    for j in range(10):\n",
    "        for k in range(10):\n",
    "            user_id = start + str(i) + str(j) + str(k)\n",
    "            status, playlists = get_users_public_playlist(token, user_id)\n",
    "            if playlists:\n",
    "                print(count)\n",
    "                tmp_ids, tmp_tracks, tmp_freqs = transform_format(count, playlists)\n",
    "                ids += tmp_ids\n",
    "                tracknames += tmp_tracks\n",
    "                freqs += tmp_freqs\n",
    "                assert len(ids) == len(tracknames)\n",
    "                count += 1\n",
    "            time.sleep(0.2)\n",
    "df = pd.DataFrame({\n",
    "    \"user_id\": ids,\n",
    "    \"trackname\": tracknames,\n",
    "    \"freq\": freqs\n",
    "})"
   ]
  },
  {
   "cell_type": "markdown",
   "metadata": {},
   "source": [
    "- Store df to csv"
   ]
  },
  {
   "cell_type": "code",
   "execution_count": 123,
   "metadata": {},
   "outputs": [],
   "source": [
    "df.to_csv('spotify_266users.csv', index=False)"
   ]
  },
  {
   "cell_type": "code",
   "execution_count": null,
   "metadata": {},
   "outputs": [],
   "source": [
    "user_ids = []\n",
    "track_names = []\n",
    "with open('small.csv') as csvfile:\n",
    "    reader = csv.reader(csvfile, delimiter=',')\n",
    "    for row in reader:\n",
    "        user_ids.append(row[0])\n",
    "        track_names.append(row[2])\n",
    "user_ids = user_ids[1:]\n",
    "track_names = track_names[1:]"
   ]
  },
  {
   "cell_type": "code",
   "execution_count": null,
   "metadata": {},
   "outputs": [],
   "source": [
    "# df = pd.read_csv(\"spotify_dataset.csv\",error_bad_lines=False)\n",
    "# df = df[['user_id','trackname']]\n",
    "\n",
    "# df['gid'] = (df.groupby('user_id').cumcount() == 0).astype(int)\n",
    "# df['gid'] = df['gid'].cumsum()\n",
    "# df['user_id'] = df['gid']\n",
    "# df = df[['user_id','trackname']]\n",
    "# df.to_csv(\"l.csv\",index=False)\n",
    "\n",
    "# users_unique = set(user_ids)\n",
    "# tracks_unique = set(track_names)\n",
    "# print(f\"total data entries: {len(user_ids)}\")\n",
    "# print(f\"number of unique users: {len(users_unique)}\")\n",
    "# print(f\"number of unique tracks: {len(tracks_unique)}\")"
   ]
  },
  {
   "cell_type": "code",
   "execution_count": 34,
   "metadata": {},
   "outputs": [],
   "source": [
    "df = pd.read_csv('m.csv')\n",
    "unique_tracks = set(df['trackname'])\n",
    "track_to_index = {track: i for i, track in enumerate(unique_tracks)}\n",
    "index_to_track = {i: track for i, track in enumerate(unique_tracks)}\n",
    "df.trackname = df.trackname.apply(lambda x: track_to_index[x])"
   ]
  },
  {
   "cell_type": "code",
   "execution_count": 35,
   "metadata": {},
   "outputs": [],
   "source": [
    "df['freq'] = df.groupby(['trackname','user_id'])['trackname'].transform(\"count\")\n",
    "df.drop_duplicates(inplace=True)"
   ]
  },
  {
   "cell_type": "code",
   "execution_count": 54,
   "metadata": {},
   "outputs": [
    {
     "data": {
      "text/html": [
       "<table border=\"1\" class=\"dataframe\">\n",
       "  <thead>\n",
       "    <tr style=\"text-align: right;\">\n",
       "      <th>user_id</th>\n",
       "      <th>trackname</th>\n",
       "      <th>target</th>\n",
       "    </tr>\n",
       "  </thead>\n",
       "  <tbody>\n",
       "    <tr>\n",
       "      <td>127</td>\n",
       "      <td>37193</td>\n",
       "      <td>1.0</td>\n",
       "    </tr>\n",
       "    <tr>\n",
       "      <td>97</td>\n",
       "      <td>16342</td>\n",
       "      <td>1.0</td>\n",
       "    </tr>\n",
       "    <tr>\n",
       "      <td>137</td>\n",
       "      <td>9872</td>\n",
       "      <td>1.0</td>\n",
       "    </tr>\n",
       "    <tr>\n",
       "      <td>111</td>\n",
       "      <td>53872</td>\n",
       "      <td>1.0</td>\n",
       "    </tr>\n",
       "    <tr>\n",
       "      <td>50</td>\n",
       "      <td>18131</td>\n",
       "      <td>2.0</td>\n",
       "    </tr>\n",
       "  </tbody>\n",
       "</table>"
      ],
      "text/plain": [
       "<IPython.core.display.HTML object>"
      ]
     },
     "metadata": {},
     "output_type": "display_data"
    }
   ],
   "source": [
    "data = CollabDataBunch.from_df(df, valid_pct=0)\n",
    "data.show_batch()"
   ]
  },
  {
   "cell_type": "code",
   "execution_count": 55,
   "metadata": {},
   "outputs": [
    {
     "name": "stdout",
     "output_type": "stream",
     "text": [
      "min freq: 1, max freq: 11\n"
     ]
    }
   ],
   "source": [
    "min_freq = df.freq.min()\n",
    "max_freq = df.freq.max()\n",
    "print(f'min freq: {min_freq}, max freq: {max_freq}')"
   ]
  },
  {
   "cell_type": "code",
   "execution_count": 96,
   "metadata": {},
   "outputs": [
    {
     "data": {
      "text/html": [
       "<div>\n",
       "<style scoped>\n",
       "    .dataframe tbody tr th:only-of-type {\n",
       "        vertical-align: middle;\n",
       "    }\n",
       "\n",
       "    .dataframe tbody tr th {\n",
       "        vertical-align: top;\n",
       "    }\n",
       "\n",
       "    .dataframe thead th {\n",
       "        text-align: right;\n",
       "    }\n",
       "</style>\n",
       "<table border=\"1\" class=\"dataframe\">\n",
       "  <thead>\n",
       "    <tr style=\"text-align: right;\">\n",
       "      <th></th>\n",
       "      <th>user_id</th>\n",
       "      <th>trackname</th>\n",
       "      <th>freq</th>\n",
       "    </tr>\n",
       "  </thead>\n",
       "  <tbody>\n",
       "    <tr>\n",
       "      <td>0</td>\n",
       "      <td>1</td>\n",
       "      <td>50754</td>\n",
       "      <td>1</td>\n",
       "    </tr>\n",
       "    <tr>\n",
       "      <td>1</td>\n",
       "      <td>1</td>\n",
       "      <td>50817</td>\n",
       "      <td>1</td>\n",
       "    </tr>\n",
       "    <tr>\n",
       "      <td>2</td>\n",
       "      <td>1</td>\n",
       "      <td>42045</td>\n",
       "      <td>1</td>\n",
       "    </tr>\n",
       "    <tr>\n",
       "      <td>3</td>\n",
       "      <td>1</td>\n",
       "      <td>31899</td>\n",
       "      <td>1</td>\n",
       "    </tr>\n",
       "    <tr>\n",
       "      <td>4</td>\n",
       "      <td>1</td>\n",
       "      <td>12637</td>\n",
       "      <td>1</td>\n",
       "    </tr>\n",
       "  </tbody>\n",
       "</table>\n",
       "</div>"
      ],
      "text/plain": [
       "   user_id  trackname  freq\n",
       "0        1      50754     1\n",
       "1        1      50817     1\n",
       "2        1      42045     1\n",
       "3        1      31899     1\n",
       "4        1      12637     1"
      ]
     },
     "execution_count": 96,
     "metadata": {},
     "output_type": "execute_result"
    }
   ],
   "source": [
    "df.head()"
   ]
  },
  {
   "cell_type": "markdown",
   "metadata": {},
   "source": [
    "#### n_factors argument: the size of the embedding vectors"
   ]
  },
  {
   "cell_type": "code",
   "execution_count": 40,
   "metadata": {},
   "outputs": [
    {
     "data": {
      "text/html": [],
      "text/plain": [
       "<IPython.core.display.HTML object>"
      ]
     },
     "metadata": {},
     "output_type": "display_data"
    },
    {
     "name": "stdout",
     "output_type": "stream",
     "text": [
      "LR Finder is complete, type {learner_name}.recorder.plot() to see the graph.\n"
     ]
    },
    {
     "data": {
      "image/png": "[encoded data removed]",
      "text/plain": [
       "<Figure size 432x288 with 1 Axes>"
      ]
     },
     "metadata": {
      "needs_background": "light"
     },
     "output_type": "display_data"
    }
   ],
   "source": [
    "learn = collab_learner(data, n_factors=40, y_range=(min_freq, max_freq), wd=1e-3)\n",
    "learn.lr_find() # find learning rate\n",
    "learn.recorder.plot() # plot learning rate graph"
   ]
  },
  {
   "cell_type": "code",
   "execution_count": 42,
   "metadata": {},
   "outputs": [
    {
     "data": {
      "text/html": [
       "<table border=\"1\" class=\"dataframe\">\n",
       "  <thead>\n",
       "    <tr style=\"text-align: left;\">\n",
       "      <th>epoch</th>\n",
       "      <th>train_loss</th>\n",
       "      <th>valid_loss</th>\n",
       "      <th>time</th>\n",
       "    </tr>\n",
       "  </thead>\n",
       "  <tbody>\n",
       "    <tr>\n",
       "      <td>0</td>\n",
       "      <td>0.739728</td>\n",
       "      <td>0.541915</td>\n",
       "      <td>00:43</td>\n",
       "    </tr>\n",
       "    <tr>\n",
       "      <td>1</td>\n",
       "      <td>0.441935</td>\n",
       "      <td>0.488942</td>\n",
       "      <td>00:50</td>\n",
       "    </tr>\n",
       "    <tr>\n",
       "      <td>2</td>\n",
       "      <td>0.373596</td>\n",
       "      <td>0.473014</td>\n",
       "      <td>00:49</td>\n",
       "    </tr>\n",
       "    <tr>\n",
       "      <td>3</td>\n",
       "      <td>0.290773</td>\n",
       "      <td>0.465578</td>\n",
       "      <td>00:48</td>\n",
       "    </tr>\n",
       "    <tr>\n",
       "      <td>4</td>\n",
       "      <td>0.275574</td>\n",
       "      <td>0.466819</td>\n",
       "      <td>00:44</td>\n",
       "    </tr>\n",
       "  </tbody>\n",
       "</table>"
      ],
      "text/plain": [
       "<IPython.core.display.HTML object>"
      ]
     },
     "metadata": {},
     "output_type": "display_data"
    }
   ],
   "source": [
    "learn.fit_one_cycle(5, 1e-2)"
   ]
  },
  {
   "cell_type": "code",
   "execution_count": 20,
   "metadata": {},
   "outputs": [
    {
     "name": "stdout",
     "output_type": "stream",
     "text": [
      "User\tTrack\tReal\tPred\tDifference\n",
      "6\t5704\t1.0\t1.0\t0.000000\n",
      "6\t4067\t1.0\t1.0\t0.000000\n",
      "6\t2889\t1.0\t1.0\t0.000000\n",
      "6\t1058\t2.0\t1.0\t-1.000000\n",
      "6\t3120\t1.0\t1.0\t0.000000\n",
      "2\t7164\t1.0\t1.0\t0.000000\n",
      "6\t7567\t1.0\t1.0\t0.000000\n",
      "6\t1684\t1.0\t1.0\t0.000000\n",
      "6\t7740\t1.0\t1.0\t0.000000\n",
      "6\t1419\t1.0\t1.0\t0.000000\n",
      "6\t5093\t2.0\t1.0\t-1.000000\n",
      "6\t1455\t2.0\t1.0\t-1.000000\n",
      "6\t4256\t1.0\t1.0\t0.000000\n",
      "6\t5570\t1.0\t1.0\t0.000000\n",
      "2\t7718\t1.0\t1.0\t0.000000\n",
      "4\t2239\t1.0\t1.0\t0.000000\n"
     ]
    }
   ],
   "source": [
    "(users, items), freqs = next(iter(data.train_dl))\n",
    "preds = learn.model(users, items)\n",
    "print('User\\tTrack\\tReal\\tPred\\tDifference')\n",
    "for p in list(zip(users, items, freqs, preds))[:16]:\n",
    "    print('{}\\t{}\\t{}\\t{:.1f}\\t{:1f}'.format(p[0],p[1], p[2], p[3] ,p[3] - p[2]))"
   ]
  },
  {
   "cell_type": "code",
   "execution_count": 57,
   "metadata": {},
   "outputs": [],
   "source": [
    "learn = collab_learner(data, use_nn=True, \n",
    "                       emb_szs={'user_id':40, \"trackname\":40}, \n",
    "                       layers=[128,128], y_range=(min_freq, max_freq))"
   ]
  },
  {
   "cell_type": "code",
   "execution_count": 58,
   "metadata": {},
   "outputs": [
    {
     "data": {
      "text/html": [],
      "text/plain": [
       "<IPython.core.display.HTML object>"
      ]
     },
     "metadata": {},
     "output_type": "display_data"
    },
    {
     "name": "stdout",
     "output_type": "stream",
     "text": [
      "LR Finder is complete, type {learner_name}.recorder.plot() to see the graph.\n"
     ]
    },
    {
     "data": {
      "image/png": "[encoded data removed]",
      "text/plain": [
       "<Figure size 432x288 with 1 Axes>"
      ]
     },
     "metadata": {
      "needs_background": "light"
     },
     "output_type": "display_data"
    }
   ],
   "source": [
    "learn.lr_find() # find learning rate\n",
    "learn.recorder.plot() # plot learning rate graph"
   ]
  },
  {
   "cell_type": "code",
   "execution_count": 59,
   "metadata": {},
   "outputs": [
    {
     "data": {
      "text/html": [
       "<table border=\"1\" class=\"dataframe\">\n",
       "  <thead>\n",
       "    <tr style=\"text-align: left;\">\n",
       "      <th>epoch</th>\n",
       "      <th>train_loss</th>\n",
       "      <th>valid_loss</th>\n",
       "      <th>time</th>\n",
       "    </tr>\n",
       "  </thead>\n",
       "  <tbody>\n",
       "    <tr>\n",
       "      <td>0</td>\n",
       "      <td>0.153080</td>\n",
       "      <td>#na#</td>\n",
       "      <td>00:36</td>\n",
       "    </tr>\n",
       "    <tr>\n",
       "      <td>1</td>\n",
       "      <td>0.140037</td>\n",
       "      <td>#na#</td>\n",
       "      <td>01:13</td>\n",
       "    </tr>\n",
       "    <tr>\n",
       "      <td>2</td>\n",
       "      <td>0.110207</td>\n",
       "      <td>#na#</td>\n",
       "      <td>01:14</td>\n",
       "    </tr>\n",
       "    <tr>\n",
       "      <td>3</td>\n",
       "      <td>0.077335</td>\n",
       "      <td>#na#</td>\n",
       "      <td>01:06</td>\n",
       "    </tr>\n",
       "    <tr>\n",
       "      <td>4</td>\n",
       "      <td>0.057052</td>\n",
       "      <td>#na#</td>\n",
       "      <td>00:56</td>\n",
       "    </tr>\n",
       "  </tbody>\n",
       "</table>"
      ],
      "text/plain": [
       "<IPython.core.display.HTML object>"
      ]
     },
     "metadata": {},
     "output_type": "display_data"
    }
   ],
   "source": [
    "learn.fit_one_cycle(5, 1e-2)"
   ]
  },
  {
   "cell_type": "code",
   "execution_count": 62,
   "metadata": {},
   "outputs": [
    {
     "name": "stdout",
     "output_type": "stream",
     "text": [
      "tensor([ 11, 145, 147,  81, 127,  77,  11,  51, 149,  62,  53, 119, 149,  50,\n",
      "         22, 108, 116,  33, 147,  81,  37,   6, 111,  54,  59,  40,  37,  37,\n",
      "         54,  29, 107, 119,  54,  10,  47, 119,  31, 136,  11,  45,   2,  48,\n",
      "        111,   2, 128,  66, 127,  78,  54,  54,  31,  11,   6,  31,   6,   6,\n",
      "        136,  54, 129,  39, 125,  20,  10, 109])\n",
      "User\tTrack\tReal\tPred\tDifference\n",
      "11\t23179\t2.0\t1.0\t-0.998561\n",
      "145\t51547\t1.0\t1.0\t0.002705\n",
      "147\t22027\t2.0\t1.7\t-0.295967\n",
      "81\t57294\t2.0\t1.9\t-0.053679\n",
      "127\t24053\t3.0\t2.2\t-0.848913\n",
      "77\t64450\t1.0\t1.0\t0.016667\n",
      "11\t7758\t1.0\t1.1\t0.051311\n",
      "51\t31803\t1.0\t1.1\t0.111274\n",
      "149\t42683\t1.0\t1.0\t0.005009\n",
      "62\t13850\t1.0\t1.0\t0.001558\n",
      "53\t65139\t1.0\t1.0\t0.003084\n",
      "119\t21728\t1.0\t1.0\t0.034046\n",
      "149\t13235\t2.0\t1.1\t-0.901917\n",
      "50\t59159\t1.0\t1.0\t0.026716\n",
      "22\t18147\t1.0\t1.0\t0.005283\n",
      "108\t17401\t1.0\t1.0\t0.002335\n"
     ]
    }
   ],
   "source": [
    "(users, items), freqs = next(iter(data.train_dl))\n",
    "preds = learn.model(users, items)\n",
    "print('User\\tTrack\\tReal\\tPred\\tDifference')\n",
    "for p in list(zip(users, items, freqs, preds))[:16]:\n",
    "    print('{}\\t{}\\t{}\\t{:.1f}\\t{:1f}'.format(p[0],p[1], p[2], p[3][0] ,p[3][0] - p[2]))"
   ]
  },
  {
   "cell_type": "code",
   "execution_count": 93,
   "metadata": {},
   "outputs": [],
   "source": [
    "# num_tracks = len(unique_tracks)\n",
    "num_tracks = learn.model.embeds[1].weight.shape[0]\n",
    "user = torch.tensor([99] * num_tracks)\n",
    "items = torch.tensor(range(num_tracks))\n",
    "preds = learn.model(user, items)\n"
   ]
  },
  {
   "cell_type": "code",
   "execution_count": 94,
   "metadata": {},
   "outputs": [
    {
     "data": {
      "text/plain": [
       "'Bd08'"
      ]
     },
     "execution_count": 94,
     "metadata": {},
     "output_type": "execute_result"
    }
   ],
   "source": [
    "index_to_track[preds.argmax().item()]"
   ]
  },
  {
   "cell_type": "code",
   "execution_count": 95,
   "metadata": {},
   "outputs": [
    {
     "data": {
      "text/plain": [
       "EmbeddingNN(\n",
       "  (embeds): ModuleList(\n",
       "    (0): Embedding(151, 40)\n",
       "    (1): Embedding(67014, 40)\n",
       "  )\n",
       "  (emb_drop): Dropout(p=0.0, inplace=False)\n",
       "  (bn_cont): BatchNorm1d(0, eps=1e-05, momentum=0.1, affine=True, track_running_stats=True)\n",
       "  (layers): Sequential(\n",
       "    (0): Linear(in_features=80, out_features=128, bias=True)\n",
       "    (1): ReLU(inplace=True)\n",
       "    (2): BatchNorm1d(128, eps=1e-05, momentum=0.1, affine=True, track_running_stats=True)\n",
       "    (3): Linear(in_features=128, out_features=128, bias=True)\n",
       "    (4): ReLU(inplace=True)\n",
       "    (5): BatchNorm1d(128, eps=1e-05, momentum=0.1, affine=True, track_running_stats=True)\n",
       "    (6): Linear(in_features=128, out_features=1, bias=True)\n",
       "  )\n",
       ")"
      ]
     },
     "execution_count": 95,
     "metadata": {},
     "output_type": "execute_result"
    }
   ],
   "source": [
    "learn.model"
   ]
  },
  {
   "cell_type": "code",
   "execution_count": null,
   "metadata": {},
   "outputs": [],
   "source": []
  }
 ],
 "metadata": {
  "kernelspec": {
   "display_name": "Python 3",
   "language": "python",
   "name": "python3"
  },
  "language_info": {
   "codemirror_mode": {
    "name": "ipython",
    "version": 3
   },
   "file_extension": ".py",
   "mimetype": "text/x-python",
   "name": "python",
   "nbconvert_exporter": "python",
   "pygments_lexer": "ipython3",
   "version": "3.7.3"
  }
 },
 "nbformat": 4,
 "nbformat_minor": 2
}
